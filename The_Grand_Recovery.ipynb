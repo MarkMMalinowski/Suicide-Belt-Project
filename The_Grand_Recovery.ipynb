{
 "cells": [
  {
   "cell_type": "code",
   "execution_count": 7,
   "metadata": {
    "collapsed": true
   },
   "outputs": [],
   "source": [
    "# Dependencies\n",
    "import numpy as np\n",
    "import tweepy\n",
    "import time\n",
    "import json\n",
    "import pandas as pd\n",
    "\n",
    "# Twitter API Keys\n",
    "consumer_key = \"TEs2QmTsz4ylhWSqXWHOvVn99\"\n",
    "consumer_secret = \"yA5M95uhTdeAKLondYQ9LDMPR5LWKc6wX70Yry1oRDHWtBN7gg\"\n",
    "access_token = \"400199431-wb53H1jfbkDwY0xVS9aZbgWZrWlXcWkhXdFuBKMh\"\n",
    "access_token_secret = \"IRvQVov2vmopxjeTutR0jn57lnMlYtr8syHQrGbLgbmW9\"\n",
    "\n",
    "# Twitter Credentials\n",
    "auth = tweepy.OAuthHandler(consumer_key, consumer_secret)\n",
    "auth.set_access_token(access_token, access_token_secret)\n",
    "api = tweepy.API(auth, parser=tweepy.parsers.JSONParser())\n"
   ]
  },
  {
   "cell_type": "code",
   "execution_count": 17,
   "metadata": {},
   "outputs": [
    {
     "data": {
      "text/html": [
       "<div>\n",
       "<style>\n",
       "    .dataframe thead tr:only-child th {\n",
       "        text-align: right;\n",
       "    }\n",
       "\n",
       "    .dataframe thead th {\n",
       "        text-align: left;\n",
       "    }\n",
       "\n",
       "    .dataframe tbody tr th {\n",
       "        vertical-align: top;\n",
       "    }\n",
       "</style>\n",
       "<table border=\"1\" class=\"dataframe\">\n",
       "  <thead>\n",
       "    <tr style=\"text-align: right;\">\n",
       "      <th></th>\n",
       "      <th>lat</th>\n",
       "      <th>lon</th>\n",
       "    </tr>\n",
       "    <tr>\n",
       "      <th>State</th>\n",
       "      <th></th>\n",
       "      <th></th>\n",
       "    </tr>\n",
       "  </thead>\n",
       "  <tbody>\n",
       "    <tr>\n",
       "      <th>Alabama</th>\n",
       "      <td>32.886361</td>\n",
       "      <td>-86.813639</td>\n",
       "    </tr>\n",
       "    <tr>\n",
       "      <th>Alaska</th>\n",
       "      <td>61.456423</td>\n",
       "      <td>-152.486981</td>\n",
       "    </tr>\n",
       "  </tbody>\n",
       "</table>\n",
       "</div>"
      ],
      "text/plain": [
       "               lat         lon\n",
       "State                         \n",
       "Alabama  32.886361  -86.813639\n",
       "Alaska   61.456423 -152.486981"
      ]
     },
     "execution_count": 17,
     "metadata": {},
     "output_type": "execute_result"
    }
   ],
   "source": [
    "# Get a list of locations in and outside the belt (in-belt, out-belt)\n",
    "base_data = pd.read_csv(\"Zipcode_States_With_Geo_Cordinates.csv\")\n",
    "lat = base_data.groupby(\"State\")[\"Latitude\"].mean()\n",
    "lon = base_data.groupby(\"State\")[\"Longitude\"].mean()\n",
    "dfff = {\"lat\":[], \"lon\":[]}\n",
    "for each in lat.index:\n",
    "    dfff[\"lat\"].append(lat[each])\n",
    "    dfff[\"lon\"].append(lon[each])\n",
    "hah = pd.DataFrame(dfff)\n",
    "base_data_state = hah.set_index([lat.index])\n",
    "\n",
    "base_data_state.head(2)"
   ]
  },
  {
   "cell_type": "code",
   "execution_count": 42,
   "metadata": {},
   "outputs": [
    {
     "data": {
      "text/html": [
       "<div>\n",
       "<style>\n",
       "    .dataframe thead tr:only-child th {\n",
       "        text-align: right;\n",
       "    }\n",
       "\n",
       "    .dataframe thead th {\n",
       "        text-align: left;\n",
       "    }\n",
       "\n",
       "    .dataframe tbody tr th {\n",
       "        vertical-align: top;\n",
       "    }\n",
       "</style>\n",
       "<table border=\"1\" class=\"dataframe\">\n",
       "  <thead>\n",
       "    <tr style=\"text-align: right;\">\n",
       "      <th></th>\n",
       "      <th>state</th>\n",
       "      <th>text</th>\n",
       "      <th>lat</th>\n",
       "      <th>lon</th>\n",
       "      <th>followers</th>\n",
       "      <th>favorites</th>\n",
       "      <th>friends</th>\n",
       "      <th>statuses_count</th>\n",
       "      <th>compound</th>\n",
       "      <th>pos</th>\n",
       "      <th>neg</th>\n",
       "    </tr>\n",
       "  </thead>\n",
       "  <tbody>\n",
       "  </tbody>\n",
       "</table>\n",
       "</div>"
      ],
      "text/plain": [
       "Empty DataFrame\n",
       "Columns: [state, text, lat, lon, followers, favorites, friends, statuses_count, compound, pos, neg]\n",
       "Index: []"
      ]
     },
     "execution_count": 42,
     "metadata": {},
     "output_type": "execute_result"
    }
   ],
   "source": [
    "tweet_df = {}\n",
    "tweet_df = pd.DataFrame(tweet_df)\n",
    "tweet_df[\"state\"] = \"\"\n",
    "tweet_df[\"text\"] = \"\"\n",
    "tweet_df[\"lat\"] = \"\"\n",
    "tweet_df[\"lon\"] = \"\"\n",
    "tweet_df[\"followers\"] = \"\"\n",
    "tweet_df[\"favorites\"] = \"\"\n",
    "tweet_df[\"friends\"] = \"\"\n",
    "tweet_df[\"statuses_count\"] = \"\"\n",
    "tweet_df[\"compound\"] = \"\"\n",
    "tweet_df[\"pos\"] = \"\"\n",
    "tweet_df[\"neg\"] = \"\"\n",
    "\n",
    "tweet_df"
   ]
  },
  {
   "cell_type": "code",
   "execution_count": null,
   "metadata": {},
   "outputs": [],
   "source": [
    "# Loop through DataFrame for each Latitude and Longitude\n",
    "for index, row in base_data_state.iterrows():    \n",
    "        \n",
    "    # Get Tweets for all locations\n",
    "    location = \"%s,%s,50mi\" % (row[\"lat\"], row[\"lon\"])     \n",
    "    public_tweets = api.search(\"\", geocode = location, count=200)\n",
    "    \n",
    "    # Extract all hashtags from tweets directed to the account\n",
    "    for tweet in public_tweets[\"statuses\"]:\n",
    "\n",
    "        # Print tweet in JSON\n",
    "        # print(json.dumps(tweet, sort_keys=True, indent=4, separators=(',', ': ')))\n",
    "\n",
    "        # Print the Tweet Text         \n",
    "        print(tweet[\"text\"])\n",
    "        \n",
    "        # Print tweet text\n",
    "        tweet_df.set_value(index, \"state\", row[\"state\"])\n",
    "        tweet_df.set_value(index, \"text\", tweet[\"text\"])\n",
    "        tweet_df.set_value(index, \"lat\", row[\"lat\"])\n",
    "        tweet_df.set_value(index, \"lon\", row[\"lon\"])\n",
    "                              \n",
    "        tweet_df.set_value(index, \"followers\", tweet[\"user\"][\"followers_count\"])\n",
    "        tweet_df.set_value(index, \"favorites\", tweet[\"user\"][\"favourites_count\"])\n",
    "        tweet_df.set_value(index, \"friends\", tweet[\"user\"][\"friends_count\"])\n",
    "        tweet_df.set_value(index, \"statuses_count\", tweet[\"user\"][\"statuses_count\"])\n",
    " \n",
    "        # Save to a csv for every state\n",
    "        tweet_df.to_csv(\"Tweet_Dump.csv\")\n",
    "         \n",
    "\n"
   ]
  },
  {
   "cell_type": "code",
   "execution_count": 4,
   "metadata": {
    "collapsed": true
   },
   "outputs": [],
   "source": [
    "# We're going to store the tweets inside a dataframe associated with the state, location, and in-belt/out-belt "
   ]
  },
  {
   "cell_type": "code",
   "execution_count": 5,
   "metadata": {
    "collapsed": true
   },
   "outputs": [],
   "source": [
    "# We're going to process all the tweets"
   ]
  },
  {
   "cell_type": "code",
   "execution_count": null,
   "metadata": {
    "collapsed": true
   },
   "outputs": [],
   "source": [
    "# We're going to group the data in-belt/out-belt"
   ]
  }
 ],
 "metadata": {
  "kernelspec": {
   "display_name": "Python [conda env:PythonData]",
   "language": "python",
   "name": "conda-env-PythonData-py"
  },
  "language_info": {
   "codemirror_mode": {
    "name": "ipython",
    "version": 3
   },
   "file_extension": ".py",
   "mimetype": "text/x-python",
   "name": "python",
   "nbconvert_exporter": "python",
   "pygments_lexer": "ipython3",
   "version": "3.6.1"
  }
 },
 "nbformat": 4,
 "nbformat_minor": 2
}
