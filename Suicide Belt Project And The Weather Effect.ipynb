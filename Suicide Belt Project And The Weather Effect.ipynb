{
 "cells": [
  {
   "cell_type": "code",
   "execution_count": null,
   "metadata": {
    "collapsed": true
   },
   "outputs": [],
   "source": [
    "# Import Dependencies\n",
    "import numpy as np\n",
    "import pandas as pd\n",
    "import json\n",
    "import csv\n",
    "import requests as req\n",
    "from citipy import citipy\n",
    "import random\n",
    "# import openweathermapy as ow\n",
    "import seaborn as sns\n",
    "import time as time\n",
    "import matplotlib.pyplot as plt\n",
    "\n",
    "# Save config information\n",
    "api_key = \"f6b72ca6ceea706cc61ed7d2132e6422\"\n",
    "url = \"http://api.openweathermap.org/data/2.5/weather?\"\n",
    "\n",
    "# Create DataFrame to store data\n",
    "weather_data = pd.DataFrame(columns =[\"Lat\",\"Long\",\"City Name\",\"Temperature\",\"Humidity\",\"Clouds\",\"Wind Speed\"])\n",
    "lat = []\n",
    "long = []\n",
    "# city_temp = []\n",
    "# city_hum = []\n",
    "# city_cloud = []\n",
    "# city_wind = []"
   ]
  }
 ],
 "metadata": {
  "kernelspec": {
   "display_name": "Python [conda env:PythonData]",
   "language": "python",
   "name": "conda-env-PythonData-py"
  },
  "language_info": {
   "codemirror_mode": {
    "name": "ipython",
    "version": 3
   },
   "file_extension": ".py",
   "mimetype": "text/x-python",
   "name": "python",
   "nbconvert_exporter": "python",
   "pygments_lexer": "ipython3",
   "version": "3.6.1"
  }
 },
 "nbformat": 4,
 "nbformat_minor": 2
}
