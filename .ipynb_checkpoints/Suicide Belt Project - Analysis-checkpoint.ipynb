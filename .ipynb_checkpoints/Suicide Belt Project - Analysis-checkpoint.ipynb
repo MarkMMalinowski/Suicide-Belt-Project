{
 "cells": [
  {
   "cell_type": "markdown",
   "metadata": {},
   "source": [
    "# Suicide Belt Project - Analysis"
   ]
  },
  {
   "cell_type": "code",
   "execution_count": 10,
   "metadata": {
    "collapsed": true
   },
   "outputs": [],
   "source": [
    "# Import Dependencies\n",
    "import numpy as np\n",
    "import pandas as pd\n",
    "import csv\n",
    "import scipy.stats as stats\n",
    "import matplotlib.pyplot as plt\n",
    "import math"
   ]
  },
  {
   "cell_type": "code",
   "execution_count": 11,
   "metadata": {},
   "outputs": [
    {
     "data": {
      "text/html": [
       "<div>\n",
       "<style>\n",
       "    .dataframe thead tr:only-child th {\n",
       "        text-align: right;\n",
       "    }\n",
       "\n",
       "    .dataframe thead th {\n",
       "        text-align: left;\n",
       "    }\n",
       "\n",
       "    .dataframe tbody tr th {\n",
       "        vertical-align: top;\n",
       "    }\n",
       "</style>\n",
       "<table border=\"1\" class=\"dataframe\">\n",
       "  <thead>\n",
       "    <tr style=\"text-align: right;\">\n",
       "      <th></th>\n",
       "      <th>State</th>\n",
       "      <th>Tweet Text</th>\n",
       "      <th>Hashtags</th>\n",
       "      <th>Date</th>\n",
       "      <th>Suicide Belt (Y/N)</th>\n",
       "      <th>Compound</th>\n",
       "      <th>Positive</th>\n",
       "      <th>Negative</th>\n",
       "      <th>Neutral</th>\n",
       "      <th>Number of Followers</th>\n",
       "      <th>Number of Friends</th>\n",
       "      <th>Number of Tweets</th>\n",
       "    </tr>\n",
       "  </thead>\n",
       "  <tbody>\n",
       "    <tr>\n",
       "      <th>0</th>\n",
       "      <td>Alaska</td>\n",
       "      <td>With one's last breath</td>\n",
       "      <td>With one's last breath</td>\n",
       "      <td>1/1/2005</td>\n",
       "      <td>Yes</td>\n",
       "      <td>0.32</td>\n",
       "      <td>0.21</td>\n",
       "      <td>0.23</td>\n",
       "      <td>0.25</td>\n",
       "      <td>34</td>\n",
       "      <td>20</td>\n",
       "      <td>15</td>\n",
       "    </tr>\n",
       "    <tr>\n",
       "      <th>1</th>\n",
       "      <td>Alaska</td>\n",
       "      <td>Wiped out...way up..</td>\n",
       "      <td>Wiped out...way up..</td>\n",
       "      <td>1/2/2005</td>\n",
       "      <td>Yes</td>\n",
       "      <td>0.33</td>\n",
       "      <td>0.22</td>\n",
       "      <td>0.24</td>\n",
       "      <td>0.26</td>\n",
       "      <td>12</td>\n",
       "      <td>32</td>\n",
       "      <td>24</td>\n",
       "    </tr>\n",
       "    <tr>\n",
       "      <th>2</th>\n",
       "      <td>Alaska</td>\n",
       "      <td>Wearing a pine overcoat (i.e. a wooden coffin)</td>\n",
       "      <td>Wearing a pine overcoat (i.e. a wooden coffin)</td>\n",
       "      <td>1/3/2005</td>\n",
       "      <td>Yes</td>\n",
       "      <td>0.34</td>\n",
       "      <td>0.23</td>\n",
       "      <td>0.25</td>\n",
       "      <td>0.27</td>\n",
       "      <td>169</td>\n",
       "      <td>343</td>\n",
       "      <td>46</td>\n",
       "    </tr>\n",
       "    <tr>\n",
       "      <th>3</th>\n",
       "      <td>Alaska</td>\n",
       "      <td>Up and die</td>\n",
       "      <td>Up and die</td>\n",
       "      <td>1/4/2005</td>\n",
       "      <td>Yes</td>\n",
       "      <td>0.35</td>\n",
       "      <td>0.24</td>\n",
       "      <td>0.26</td>\n",
       "      <td>0.28</td>\n",
       "      <td>128</td>\n",
       "      <td>54</td>\n",
       "      <td>76</td>\n",
       "    </tr>\n",
       "    <tr>\n",
       "      <th>4</th>\n",
       "      <td>Alaska</td>\n",
       "      <td>Until one's dying day</td>\n",
       "      <td>Until one's dying day</td>\n",
       "      <td>1/5/2005</td>\n",
       "      <td>Yes</td>\n",
       "      <td>0.36</td>\n",
       "      <td>0.25</td>\n",
       "      <td>0.27</td>\n",
       "      <td>0.29</td>\n",
       "      <td>66</td>\n",
       "      <td>65</td>\n",
       "      <td>8</td>\n",
       "    </tr>\n",
       "  </tbody>\n",
       "</table>\n",
       "</div>"
      ],
      "text/plain": [
       "    State                                      Tweet Text  \\\n",
       "0  Alaska                          With one's last breath   \n",
       "1  Alaska                            Wiped out...way up..   \n",
       "2  Alaska  Wearing a pine overcoat (i.e. a wooden coffin)   \n",
       "3  Alaska                                      Up and die   \n",
       "4  Alaska                           Until one's dying day   \n",
       "\n",
       "                                         Hashtags      Date  \\\n",
       "0                          With one's last breath  1/1/2005   \n",
       "1                            Wiped out...way up..  1/2/2005   \n",
       "2  Wearing a pine overcoat (i.e. a wooden coffin)  1/3/2005   \n",
       "3                                      Up and die  1/4/2005   \n",
       "4                           Until one's dying day  1/5/2005   \n",
       "\n",
       "  Suicide Belt (Y/N)  Compound  Positive  Negative  Neutral  \\\n",
       "0                Yes      0.32      0.21      0.23     0.25   \n",
       "1                Yes      0.33      0.22      0.24     0.26   \n",
       "2                Yes      0.34      0.23      0.25     0.27   \n",
       "3                Yes      0.35      0.24      0.26     0.28   \n",
       "4                Yes      0.36      0.25      0.27     0.29   \n",
       "\n",
       "   Number of Followers  Number of Friends  Number of Tweets  \n",
       "0                   34                 20                15  \n",
       "1                   12                 32                24  \n",
       "2                  169                343                46  \n",
       "3                  128                 54                76  \n",
       "4                   66                 65                 8  "
      ]
     },
     "execution_count": 11,
     "metadata": {},
     "output_type": "execute_result"
    }
   ],
   "source": [
    "# Import the twitter data into a pandas DataFrame\n",
    "twitter_data = pd.read_csv(\"Resources/SuicideRiskRateTestSample.csv\")\n",
    "\n",
    "# Preview the twitter data\n",
    "twitter_data.head()"
   ]
  },
  {
   "cell_type": "code",
   "execution_count": 12,
   "metadata": {},
   "outputs": [
    {
     "data": {
      "text/html": [
       "<div>\n",
       "<style>\n",
       "    .dataframe thead tr:only-child th {\n",
       "        text-align: right;\n",
       "    }\n",
       "\n",
       "    .dataframe thead th {\n",
       "        text-align: left;\n",
       "    }\n",
       "\n",
       "    .dataframe tbody tr th {\n",
       "        vertical-align: top;\n",
       "    }\n",
       "</style>\n",
       "<table border=\"1\" class=\"dataframe\">\n",
       "  <thead>\n",
       "    <tr style=\"text-align: right;\">\n",
       "      <th></th>\n",
       "      <th></th>\n",
       "    </tr>\n",
       "  </thead>\n",
       "  <tbody>\n",
       "    <tr>\n",
       "      <th>0</th>\n",
       "      <td>40918</td>\n",
       "    </tr>\n",
       "  </tbody>\n",
       "</table>\n",
       "</div>"
      ],
      "text/plain": [
       "        \n",
       "0  40918"
      ]
     },
     "execution_count": 12,
     "metadata": {},
     "output_type": "execute_result"
    }
   ],
   "source": [
    "# Display the total number of Record Line Items\n",
    "line_item_count = twitter_data.count()[0]\n",
    "pd.DataFrame({\" \": [line_item_count]})"
   ]
  },
  {
   "cell_type": "code",
   "execution_count": 13,
   "metadata": {},
   "outputs": [
    {
     "data": {
      "text/plain": [
       "State\n",
       "Alabama                   5746.95\n",
       "Alaska                     458.64\n",
       "Arizona                  10894.09\n",
       "Arkansas                 10334.10\n",
       "California               94263.05\n",
       "Colorado                 33907.65\n",
       "Connecticut              24856.26\n",
       "Delaware                  6078.24\n",
       "District of Columbia     16901.50\n",
       "Florida                 104583.15\n",
       "Georgia                  79120.75\n",
       "Hawaii                   12154.64\n",
       "Idaho                    32491.20\n",
       "Illinois                174603.00\n",
       "Indiana                 119489.37\n",
       "Iowa                     99687.51\n",
       "Kansas                   98798.22\n",
       "Kentucky                132544.11\n",
       "Louisiana               107138.19\n",
       "Maine                    81436.35\n",
       "Maryland                 98128.86\n",
       "Massachusetts           106721.10\n",
       "Michigan                204157.85\n",
       "Minnesota               185217.90\n",
       "Mississippi             109439.10\n",
       "Missouri                228466.06\n",
       "Montana                  85153.10\n",
       "Nebraska                143068.10\n",
       "Nevada                   63098.20\n",
       "New Hampshire            66108.06\n",
       "New Jersey              173722.44\n",
       "New Mexico              104310.36\n",
       "New York                562858.79\n",
       "North Carolina          235650.60\n",
       "North Dakota             91603.75\n",
       "Ohio                    394880.71\n",
       "Oklahoma                221678.42\n",
       "Oregon                  141662.47\n",
       "Pennsylvania            673445.25\n",
       "Rhode Island             28886.85\n",
       "South Carolina          173061.39\n",
       "South Dakota            126541.80\n",
       "Tennessee               262606.05\n",
       "Texas                   911960.85\n",
       "Utah                    126682.71\n",
       "Vermont                 117509.70\n",
       "Virginia                453197.10\n",
       "Washington              276837.82\n",
       "West Virginia           342919.75\n",
       "Wisconsin               353655.68\n",
       "Wyoming                  79688.70\n",
       "Name: Compound, dtype: float64"
      ]
     },
     "execution_count": 13,
     "metadata": {},
     "output_type": "execute_result"
    }
   ],
   "source": [
    "# Run basic calculations for compound score\n",
    "compound_state_total = twitter_data.groupby([\"State\"]).sum()[\"Compound\"]\n",
    "compound_state_mean = twitter_data.groupby([\"State\"]).mean()[\"Compound\"]\n",
    "\n",
    "# Run basic calculations for number of followers, friends and tweets\n",
    "num_of_followers_total = twitter_data.groupby([\"State\"]).sum()[\"Number of Followers\"]\n",
    "num_of_followers_mean = twitter_data.groupby([\"State\"]).mean()[\"Number of Followers\"]\n",
    "\n",
    "# Run basic calculations for number of friends\n",
    "num_of_friends_total = twitter_data.groupby([\"State\"]).sum()[\"Number of Friends\"]\n",
    "num_of_friends_mean = twitter_data.groupby([\"State\"]).mean()[\"Number of Friends\"]\n",
    "\n",
    "# Run basic calculations for number of tweets\n",
    "num_of_tweets_total = twitter_data.groupby([\"State\"]).sum()[\"Number of Tweets\"]\n",
    "num_of_tweets_mean = twitter_data.groupby([\"State\"]).mean()[\"Number of Tweets\"]\n",
    "\n",
    "compound_state_total"
   ]
  },
  {
   "cell_type": "code",
   "execution_count": 14,
   "metadata": {
    "collapsed": true
   },
   "outputs": [],
   "source": [
    "# Identify Suicide States and Set To Variable\n",
    "suicide_belt_states = [\"Alaska\", \"Arizona\", \"Colorado\", \"Idaho\", \"Montana\", \"Nevada\", \"New Mexico\", \"Oregon\", \"Utah\", \"Wyoming\"]\n",
    "\n",
    "suicide_states_compound_state_total = 0.0\n",
    "non_suicide_states_compound_state_total = 0.0\n",
    "\n",
    "# Set state counter to zero\n",
    "ss_counter = 0\n",
    "nss_counter = 0\n",
    "\n",
    "# Loop through all Compound Scores by State\n",
    "for state in compound_state_total.index:\n",
    "    if state in suicide_belt_states:\n",
    "        suicide_states_compound_state_total=compound_state_total[state]+suicide_states_compound_state_total\n",
    "        ss_counter = 1 + ss_counter\n",
    "    else:\n",
    "        non_suicide_states_compound_state_total=compound_state_total[state]+non_suicide_states_compound_state_total\n",
    "        nss_counter = 1 + nss_counter\n",
    "        \n",
    "# Additional Calculations of AVG Compound Scores \n",
    "avg_ss_cst = suicide_states_compound_state_total/ss_counter\n",
    "avg_nss_cst = non_suicide_states_compound_state_total/nss_counter"
   ]
  },
  {
   "cell_type": "code",
   "execution_count": null,
   "metadata": {
    "collapsed": true
   },
   "outputs": [],
   "source": []
  },
  {
   "cell_type": "code",
   "execution_count": 15,
   "metadata": {},
   "outputs": [
    {
     "data": {
      "image/png": "[encoded data removed]",
      "text/plain": [
       "<matplotlib.figure.Figure at 0x19e308b6518>"
      ]
     },
     "metadata": {},
     "output_type": "display_data"
    }
   ],
   "source": [
    "# Create a plot  \n",
    "len(compound_state_total.index)\n",
    "plt.bar(range(len(compound_state_total.index)), compound_state_total.values)\n",
    "plt.xticks(range(len(compound_state_total.index)), compound_state_total.index, rotation=45)\n",
    "plt.ylabel(\"Compound Score via Sentiment Analyzer\")\n",
    "plt.xlabel(\"Suicide Belt States vs Non Suicide Belt States\")\n",
    "plt.title(\"Vader Sentiment Analyzer AVG Compound Scores using Suicide Risk Expressions\")\n",
    "plt.show()"
   ]
  },
  {
   "cell_type": "code",
   "execution_count": 16,
   "metadata": {
    "scrolled": false
   },
   "outputs": [
    {
     "data": {
      "text/html": [
       "<div>\n",
       "<style>\n",
       "    .dataframe thead tr:only-child th {\n",
       "        text-align: right;\n",
       "    }\n",
       "\n",
       "    .dataframe thead th {\n",
       "        text-align: left;\n",
       "    }\n",
       "\n",
       "    .dataframe tbody tr th {\n",
       "        vertical-align: top;\n",
       "    }\n",
       "</style>\n",
       "<table border=\"1\" class=\"dataframe\">\n",
       "  <thead>\n",
       "    <tr style=\"text-align: right;\">\n",
       "      <th></th>\n",
       "      <th>Non Suicide Belt States</th>\n",
       "      <th>Suicide Belt States</th>\n",
       "    </tr>\n",
       "  </thead>\n",
       "  <tbody>\n",
       "    <tr>\n",
       "      <th>0</th>\n",
       "      <td>188050.228537</td>\n",
       "      <td>67834.712</td>\n",
       "    </tr>\n",
       "  </tbody>\n",
       "</table>\n",
       "</div>"
      ],
      "text/plain": [
       "   Non Suicide Belt States  Suicide Belt States\n",
       "0            188050.228537            67834.712"
      ]
     },
     "execution_count": 16,
     "metadata": {},
     "output_type": "execute_result"
    }
   ],
   "source": [
    "# Convert to a New DataFrame\n",
    "group_compund_state_total = {\"Suicide Belt States\":[avg_ss_cst], \"Non Suicide Belt States\":[avg_nss_cst]}\n",
    "new_group_compound_state_total = pd.DataFrame(group_compund_state_total)\n",
    "new_group_compound_state_total"
   ]
  },
  {
   "cell_type": "code",
   "execution_count": 33,
   "metadata": {},
   "outputs": [
    {
     "data": {
      "text/plain": [
       "[188050.22853658532, 67834.712]"
      ]
     },
     "execution_count": 33,
     "metadata": {},
     "output_type": "execute_result"
    }
   ],
   "source": [
    "non_suicide_belt = new_group_compound_state_total.values[0][0]\n",
    "suicide_belt = new_group_compound_state_total.values[0][1]\n",
    "\n",
    "suicide_belts = [non_suicide_belt, suicide_belt]\n",
    "suicide_belts"
   ]
  },
  {
   "cell_type": "code",
   "execution_count": 34,
   "metadata": {},
   "outputs": [
    {
     "data": {
      "image/png": "[encoded data removed]",
      "text/plain": [
       "<matplotlib.figure.Figure at 0x19e30d75ac8>"
      ]
     },
     "metadata": {},
     "output_type": "display_data"
    }
   ],
   "source": [
    "plt.bar([1,2], suicide_belts)\n",
    "plt.show()"
   ]
  },
  {
   "cell_type": "code",
   "execution_count": 18,
   "metadata": {},
   "outputs": [
    {
     "ename": "SyntaxError",
     "evalue": "invalid syntax (<ipython-input-18-199a12e4a2e2>, line 15)",
     "output_type": "error",
     "traceback": [
      "\u001b[1;36m  File \u001b[1;32m\"<ipython-input-18-199a12e4a2e2>\"\u001b[1;36m, line \u001b[1;32m15\u001b[0m\n\u001b[1;33m    DataFrame.plt.bar(x=, y=None, **kwds)\u001b[0m\n\u001b[1;37m                        ^\u001b[0m\n\u001b[1;31mSyntaxError\u001b[0m\u001b[1;31m:\u001b[0m invalid syntax\n"
     ]
    }
   ],
   "source": [
    "# Create a plot  \n",
    "# plt.bar(avg_ss_cst[\"Suicide Belt States\"], avg_nss_cst[\"Non Suicide Belt States\"])\n",
    "len(new_group_compound_state_total.index)\n",
    "plt.bar(range(len(new_group_compound_state_total.index)), new_group_compound_state_total.values)\n",
    "plt.xticks(range(len(new_group_compound_state_total.index)), new_group_compound_state_total.index, rotation=45)\n",
    "plt.ylabel(\"Compound Score via Sentiment Analyzer\")\n",
    "plt.xlabel(\"Suicide Belt States vs Non Suicide Belt States\")\n",
    "plt.title(\"Vader Sentiment Analyzer AVG Compound Scores using Suicide Risk Expressions\")\n",
    "plt.show()\n",
    "# plt.bar(np.arange(0,2,1), [ss[\"Suicide\"], ss[\"Non\"]], color= [\"r\",\"b\"])\n",
    "# x_axis = np.arange(2)\n",
    "# tick_locations = [value for value in x_axis]\n",
    "# plt.xticks(tick_locations, [\"In\",\"out\"])\n",
    "# plt.show()\n",
    "DataFrame.plt.bar(x=, y=None, **kwds)"
   ]
  },
  {
   "cell_type": "code",
   "execution_count": null,
   "metadata": {
    "collapsed": true
   },
   "outputs": [],
   "source": []
  }
 ],
 "metadata": {
  "kernelspec": {
   "display_name": "Python [conda env:PythonData]",
   "language": "python",
   "name": "conda-env-PythonData-py"
  },
  "language_info": {
   "codemirror_mode": {
    "name": "ipython",
    "version": 3
   },
   "file_extension": ".py",
   "mimetype": "text/x-python",
   "name": "python",
   "nbconvert_exporter": "python",
   "pygments_lexer": "ipython3",
   "version": "3.6.1"
  }
 },
 "nbformat": 4,
 "nbformat_minor": 2
}
